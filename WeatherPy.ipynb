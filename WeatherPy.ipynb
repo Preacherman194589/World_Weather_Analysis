{
 "cells": [
  {
   "cell_type": "code",
   "execution_count": 1,
   "id": "efd43830",
   "metadata": {},
   "outputs": [],
   "source": [
    "# Import the dependencies.\n",
    "import pandas as pd\n",
    "import matplotlib.pyplot as plt\n",
    "import numpy as np\n",
    "from citipy import citipy"
   ]
  },
  {
   "cell_type": "code",
   "execution_count": 2,
   "id": "d0b40886",
   "metadata": {},
   "outputs": [
    {
     "data": {
      "text/plain": [
       "<zip at 0x7fe8891c6820>"
      ]
     },
     "execution_count": 2,
     "metadata": {},
     "output_type": "execute_result"
    }
   ],
   "source": [
    "# Create a set of random latitude and longitude combinations.\n",
    "lats = np.random.uniform(low=-90.000, high=90.000, size=1500)\n",
    "lngs = np.random.uniform(low=-180.000, high=180.000, size=1500)\n",
    "lat_lngs = zip(lats, lngs)\n",
    "lat_lngs"
   ]
  },
  {
   "cell_type": "code",
   "execution_count": 3,
   "id": "81f0289d",
   "metadata": {},
   "outputs": [],
   "source": [
    "# Create a practice set of random latitude and longitude combinations.\n",
    "lats = [25.12903645, 25.92017388, 26.62509167, -59.98969384, 37.30571269]\n",
    "lngs = [-67.59741259, 11.09532135, 74.84233102, -76.89176677, -61.13376282]\n",
    "lat_lngs = zip(lats, lngs)"
   ]
  },
  {
   "cell_type": "code",
   "execution_count": 4,
   "id": "ee5a9b66",
   "metadata": {},
   "outputs": [],
   "source": [
    "# Add the latitudes and longitudes to a list.\n",
    "coordinates = list(lat_lngs)"
   ]
  },
  {
   "cell_type": "code",
   "execution_count": 5,
   "id": "af4bc157",
   "metadata": {},
   "outputs": [
    {
     "name": "stdout",
     "output_type": "stream",
     "text": [
      "25.12903645 -67.59741259\n",
      "25.92017388 11.09532135\n",
      "26.62509167 74.84233102\n",
      "-59.98969384 -76.89176677\n",
      "37.30571269 -61.13376282\n"
     ]
    }
   ],
   "source": [
    "# Use the print() function to display the latitude and longitude combinations.\n",
    "for coordinate in coordinates:\n",
    "    print(coordinate[0], coordinate[1])"
   ]
  },
  {
   "cell_type": "code",
   "execution_count": 6,
   "id": "a6f53a3d",
   "metadata": {},
   "outputs": [
    {
     "data": {
      "text/plain": [
       "5"
      ]
     },
     "execution_count": 6,
     "metadata": {},
     "output_type": "execute_result"
    }
   ],
   "source": [
    "# Create a list for holding the cities.\n",
    "cities = []\n",
    "# Identify the nearest city for each latitude and longitude combination.\n",
    "for coordinate in coordinates:\n",
    "    city = citipy.nearest_city(coordinate[0], coordinate[1]).city_name\n",
    "\n",
    "    # If the city is unique, then we will add it to the cities list.\n",
    "    if city not in cities:\n",
    "        cities.append(city)\n",
    "# Print the city count to confirm sufficient count.\n",
    "len(cities)"
   ]
  },
  {
   "cell_type": "code",
   "execution_count": 7,
   "id": "7c9ac6ed",
   "metadata": {},
   "outputs": [],
   "source": [
    "# Import the requests library.\n",
    "import requests\n",
    "\n",
    "# Import the API key.\n",
    "from config import weather_api_key"
   ]
  },
  {
   "cell_type": "code",
   "execution_count": 8,
   "id": "e2575769",
   "metadata": {},
   "outputs": [
    {
     "name": "stdout",
     "output_type": "stream",
     "text": [
      "http://api.openweathermap.org/data/2.5/weather?units=Imperial&APPID=3c12acc8886562ae09ef251638a09e91\n"
     ]
    }
   ],
   "source": [
    "# Starting URL for Weather Map API Call.\n",
    "url = \"http://api.openweathermap.org/data/2.5/weather?units=Imperial&APPID=\" + weather_api_key\n",
    "print(url)"
   ]
  },
  {
   "cell_type": "code",
   "execution_count": 9,
   "id": "55f37a0b",
   "metadata": {},
   "outputs": [
    {
     "name": "stdout",
     "output_type": "stream",
     "text": [
      "http://api.openweathermap.org/data/2.5/weather?units=Imperial&APPID=3c12acc8886562ae09ef251638a09e91&q=Boston\n"
     ]
    }
   ],
   "source": [
    "# Create an endpoint URL for a city.\n",
    "city_url = url + \"&q=\" + \"Boston\"\n",
    "print(city_url)"
   ]
  },
  {
   "cell_type": "code",
   "execution_count": 10,
   "id": "4c92143a",
   "metadata": {},
   "outputs": [],
   "source": [
    "# Import the time library and the datetime module from the datetime library \n",
    "import time\n",
    "from datetime import datetime"
   ]
  },
  {
   "cell_type": "code",
   "execution_count": 11,
   "id": "3f3f3ef9",
   "metadata": {},
   "outputs": [
    {
     "name": "stdout",
     "output_type": "stream",
     "text": [
      "Beginning Data Retrieval     \n",
      "-----------------------------\n",
      "Processing Record 1 of Set 1 | cockburn town\n",
      "Processing Record 2 of Set 1 | gat\n",
      "Processing Record 3 of Set 1 | parvatsar\n",
      "Processing Record 4 of Set 1 | punta arenas\n",
      "Processing Record 5 of Set 1 | saint george\n",
      "-----------------------------\n",
      "Data Retrieval Complete      \n",
      "-----------------------------\n"
     ]
    }
   ],
   "source": [
    "# Create an empty list to hold the weather data.\n",
    "city_data = []\n",
    "# Print the beginning of the logging.\n",
    "print(\"Beginning Data Retrieval     \")\n",
    "print(\"-----------------------------\")\n",
    "\n",
    "# Create counters.\n",
    "record_count = 1\n",
    "set_count = 1\n",
    "\n",
    "# Loop through all the cities in the list.\n",
    "for i, city in enumerate(cities):\n",
    "\n",
    "    # Group cities in sets of 50 for logging purposes.\n",
    "    if (i % 50 == 0 and i >= 50):\n",
    "        set_count += 1\n",
    "        record_count = 1\n",
    "        time.sleep(60)\n",
    "\n",
    "    # Create endpoint URL with each city.\n",
    "    city_url = url + \"&q=\" + city.replace(\" \",\"+\")\n",
    "\n",
    "    # Log the URL, record, and set numbers and the city.\n",
    "    print(f\"Processing Record {record_count} of Set {set_count} | {city}\")\n",
    "    # Add 1 to the record count.\n",
    "    record_count += 1\n",
    "    \n",
    "   # Run an API request for each of the cities.\n",
    "\n",
    "try:        \n",
    "        # Parse the JSON and retrieve data.\n",
    "        city_weather = requests.get(city_url).json()\n",
    "        # Parse out the needed data.\n",
    "        city_lat = city_weather[\"coord\"][\"lat\"]\n",
    "        city_lng = city_weather[\"coord\"][\"lon\"]\n",
    "        city_max_temp = city_weather[\"main\"][\"temp_max\"]\n",
    "        city_humidity = city_weather[\"main\"][\"humidity\"]\n",
    "        city_clouds = city_weather[\"clouds\"][\"all\"]\n",
    "        city_wind = city_weather[\"wind\"][\"speed\"]\n",
    "        city_country = city_weather[\"sys\"][\"country\"]\n",
    "        # Convert the date to ISO standard.\n",
    "        city_date = datetime.utcfromtimestamp(city_weather[\"dt\"]).strftime('%Y-%m-%d %H:%M:%S')\n",
    "        # Append the city information into city_data list.\n",
    "        city_data.append({\"City\": city.title(),\n",
    "                          \"Lat\": city_lat,\n",
    "                          \"Lng\": city_lng,\n",
    "                          \"Max Temp\": city_max_temp,\n",
    "                          \"Humidity\": city_humidity,\n",
    "                          \"Cloudiness\": city_clouds,\n",
    "                          \"Wind Speed\": city_wind,\n",
    "                          \"Country\": city_country,\n",
    "                          \"Date\": city_date})\n",
    "\n",
    "#If an error is experienced, skip the city.\n",
    "\n",
    "except:\n",
    "        \n",
    "        print(\"City not found. Skipping...\")\n",
    "        \n",
    "        pass\n",
    "\n",
    "# Indicate that Data Loading is complete.\n",
    "\n",
    "print(\"-----------------------------\")\n",
    "\n",
    "print(\"Data Retrieval Complete      \")\n",
    "\n",
    "print(\"-----------------------------\")\n"
   ]
  },
  {
   "cell_type": "code",
   "execution_count": 12,
   "id": "b423d37b",
   "metadata": {},
   "outputs": [
    {
     "data": {
      "text/html": [
       "<div>\n",
       "<style scoped>\n",
       "    .dataframe tbody tr th:only-of-type {\n",
       "        vertical-align: middle;\n",
       "    }\n",
       "\n",
       "    .dataframe tbody tr th {\n",
       "        vertical-align: top;\n",
       "    }\n",
       "\n",
       "    .dataframe thead th {\n",
       "        text-align: right;\n",
       "    }\n",
       "</style>\n",
       "<table border=\"1\" class=\"dataframe\">\n",
       "  <thead>\n",
       "    <tr style=\"text-align: right;\">\n",
       "      <th></th>\n",
       "      <th>City</th>\n",
       "      <th>Lat</th>\n",
       "      <th>Lng</th>\n",
       "      <th>Max Temp</th>\n",
       "      <th>Humidity</th>\n",
       "      <th>Cloudiness</th>\n",
       "      <th>Wind Speed</th>\n",
       "      <th>Country</th>\n",
       "      <th>Date</th>\n",
       "    </tr>\n",
       "  </thead>\n",
       "  <tbody>\n",
       "    <tr>\n",
       "      <th>0</th>\n",
       "      <td>Saint George</td>\n",
       "      <td>37.1041</td>\n",
       "      <td>-113.5841</td>\n",
       "      <td>103.42</td>\n",
       "      <td>21</td>\n",
       "      <td>0</td>\n",
       "      <td>5.99</td>\n",
       "      <td>US</td>\n",
       "      <td>2022-07-15 21:45:01</td>\n",
       "    </tr>\n",
       "  </tbody>\n",
       "</table>\n",
       "</div>"
      ],
      "text/plain": [
       "           City      Lat       Lng  Max Temp  Humidity  Cloudiness  \\\n",
       "0  Saint George  37.1041 -113.5841    103.42        21           0   \n",
       "\n",
       "   Wind Speed Country                 Date  \n",
       "0        5.99      US  2022-07-15 21:45:01  "
      ]
     },
     "execution_count": 12,
     "metadata": {},
     "output_type": "execute_result"
    }
   ],
   "source": [
    "# Convert the array of dictionaries to a Pandas DataFrame.\n",
    "city_data_df = pd.DataFrame(city_data)\n",
    "city_data_df.head(10)"
   ]
  },
  {
   "cell_type": "code",
   "execution_count": 13,
   "id": "a4bd317d",
   "metadata": {},
   "outputs": [],
   "source": [
    "# Create the output file (CSV).\n",
    "output_data_file = \"cities.csv\"\n",
    "# Export the City_Data into a CSV.\n",
    "city_data_df.to_csv(output_data_file, index_label=\"City_ID\")\n"
   ]
  },
  {
   "cell_type": "code",
   "execution_count": 14,
   "id": "0b9ff72e",
   "metadata": {},
   "outputs": [],
   "source": [
    "# Extract relevant fields from the DataFrame for plotting.\n",
    "lats = city_data_df[\"Lat\"]\n",
    "max_temps = city_data_df[\"Max Temp\"]\n",
    "humidity = city_data_df[\"Humidity\"]\n",
    "cloudiness = city_data_df[\"Cloudiness\"]\n",
    "wind_speed = city_data_df[\"Wind Speed\"]"
   ]
  },
  {
   "cell_type": "code",
   "execution_count": 15,
   "id": "ad28d80f",
   "metadata": {
    "scrolled": false
   },
   "outputs": [
    {
     "data": {
      "image/png": "[encoded data removed]",
      "text/plain": [
       "<Figure size 432x288 with 1 Axes>"
      ]
     },
     "metadata": {
      "needs_background": "light"
     },
     "output_type": "display_data"
    }
   ],
   "source": [
    "# Import time module\n",
    "import time\n",
    "\n",
    "# Build the scatter plot for latitude vs. max temperature.\n",
    "plt.scatter(lats,\n",
    "            max_temps,\n",
    "            edgecolor=\"black\", linewidths=1, marker=\"o\",\n",
    "            alpha=0.8, label=\"Cities\")\n",
    "\n",
    "# Incorporate the other graph properties.\n",
    "plt.title(f\"City Latitude vs. Max Temperature \"+ time.strftime(\"%x\"))\n",
    "plt.ylabel(\"Max Temperature (F)\")\n",
    "plt.xlabel(\"Latitude\")\n",
    "plt.grid(True)\n",
    "\n",
    "# Save the figure.\n",
    "plt.savefig(\"Fig1.png\")\n",
    "\n",
    "# Show plot.\n",
    "plt.show()"
   ]
  },
  {
   "cell_type": "code",
   "execution_count": 16,
   "id": "a395b566",
   "metadata": {},
   "outputs": [
    {
     "data": {
      "image/png": "[encoded data removed]",
      "text/plain": [
       "<Figure size 432x288 with 1 Axes>"
      ]
     },
     "metadata": {
      "needs_background": "light"
     },
     "output_type": "display_data"
    }
   ],
   "source": [
    "# Build the scatter plots for latitude vs. humidity.\n",
    "plt.scatter(lats,\n",
    "            humidity,\n",
    "            edgecolor=\"black\", linewidths=1, marker=\"o\",\n",
    "            alpha=0.8, label=\"Cities\")\n",
    "\n",
    "# Incorporate the other graph properties.\n",
    "plt.title(f\"City Latitude vs. Humidity \"+ time.strftime(\"%x\"))\n",
    "plt.ylabel(\"Humidity (%)\")\n",
    "plt.xlabel(\"Latitude\")\n",
    "plt.grid(True)\n",
    "# Save the figure.\n",
    "plt.savefig(\"Fig2.png\")\n",
    "# Show plot.\n",
    "plt.show()"
   ]
  },
  {
   "cell_type": "code",
   "execution_count": 17,
   "id": "fa833e2a",
   "metadata": {},
   "outputs": [
    {
     "data": {
      "image/png": "[encoded data removed]",
      "text/plain": [
       "<Figure size 432x288 with 1 Axes>"
      ]
     },
     "metadata": {
      "needs_background": "light"
     },
     "output_type": "display_data"
    }
   ],
   "source": [
    "# Build the scatter plots for latitude vs. cloudiness.\n",
    "plt.scatter(lats,\n",
    "            cloudiness,\n",
    "            edgecolor=\"black\", linewidths=1, marker=\"o\",\n",
    "            alpha=0.8, label=\"Cities\")\n",
    "\n",
    "# Incorporate the other graph properties.\n",
    "plt.title(f\"City Latitude vs. Cloudiness (%) \"+ time.strftime(\"%x\"))\n",
    "plt.ylabel(\"Cloudiness (%)\")\n",
    "plt.xlabel(\"Latitude\")\n",
    "plt.grid(True)\n",
    "# Save the figure.\n",
    "plt.savefig(\"Fig3.png\")\n",
    "# Show plot.\n",
    "plt.show()"
   ]
  },
  {
   "cell_type": "code",
   "execution_count": 18,
   "id": "6864598a",
   "metadata": {},
   "outputs": [
    {
     "data": {
      "image/png": "[encoded data removed]",
      "text/plain": [
       "<Figure size 432x288 with 1 Axes>"
      ]
     },
     "metadata": {
      "needs_background": "light"
     },
     "output_type": "display_data"
    }
   ],
   "source": [
    "# Build the scatter plots for latitude vs. wind speed.\n",
    "plt.scatter(lats,\n",
    "            wind_speed,\n",
    "            edgecolor=\"black\", linewidths=1, marker=\"o\",\n",
    "            alpha=0.8, label=\"Cities\")\n",
    "\n",
    "# Incorporate the other graph properties.\n",
    "plt.title(f\"City Latitude vs. Wind Speed \"+ time.strftime(\"%x\"))\n",
    "plt.ylabel(\"Wind Speed (mph)\")\n",
    "plt.xlabel(\"Latitude\")\n",
    "plt.grid(True)\n",
    "# Save the figure.\n",
    "plt.savefig(\"Fig4.png\")\n",
    "# Show plot.\n",
    "plt.show()"
   ]
  },
  {
   "cell_type": "code",
   "execution_count": null,
   "id": "2b04518b",
   "metadata": {},
   "outputs": [],
   "source": []
  }
 ],
 "metadata": {
  "kernelspec": {
   "display_name": "Python 3 (ipykernel)",
   "language": "python",
   "name": "python3"
  },
  "language_info": {
   "codemirror_mode": {
    "name": "ipython",
    "version": 3
   },
   "file_extension": ".py",
   "mimetype": "text/x-python",
   "name": "python",
   "nbconvert_exporter": "python",
   "pygments_lexer": "ipython3",
   "version": "3.7.13"
  }
 },
 "nbformat": 4,
 "nbformat_minor": 5
}
